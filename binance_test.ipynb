{
 "cells": [
  {
   "cell_type": "code",
   "execution_count": 6,
   "metadata": {},
   "outputs": [
    {
     "name": "stdout",
     "output_type": "stream",
     "text": [
      "{'symbol': 'BTCUSDT', 'price': '63284.30000000'}\n"
     ]
    }
   ],
   "source": [
    "import os\n",
    "from binance.client import Client\n",
    "\n",
    "client = Client('ECKmhCpRn2Wp3hL8J5ae6hIyXWl6nwMCInT8h4UI0dbUVeNngeyu9Zv7UAcOoBfs', '9pqP4wgHObK9W8WwUkT29zfTg8wZ1d84gAvnWwT8M6bHt4FY1ysFvNnTTMUZRh0P')\n",
    "\n",
    "# get latest price from Binance API\n",
    "btc_price = client.get_symbol_ticker(symbol=\"BTCUSDT\")\n",
    "\n",
    "# print full output (dictionary)\n",
    "print(btc_price)"
   ]
  },
  {
   "cell_type": "code",
   "execution_count": 7,
   "metadata": {},
   "outputs": [],
   "source": [
    "from time import sleep\n",
    "\n",
    "from binance import ThreadedWebsocketManager"
   ]
  },
  {
   "cell_type": "code",
   "execution_count": 8,
   "metadata": {},
   "outputs": [],
   "source": [
    "btc_price = {'error':False}"
   ]
  },
  {
   "cell_type": "code",
   "execution_count": 10,
   "metadata": {},
   "outputs": [],
   "source": [
    "def btc_trade_history(msg):\n",
    "    ''' define how to process incoming WebSocket messages '''\n",
    "    if msg['e'] != 'error':\n",
    "        print(msg['c'])\n",
    "        btc_price['last'] = msg['c']\n",
    "        btc_price['bid'] = msg['b']\n",
    "        btc_price['last'] = msg['a']\n",
    "        btc_price['error'] = False\n",
    "    else:\n",
    "        btc_price['error'] = True\n"
   ]
  },
  {
   "cell_type": "code",
   "execution_count": 11,
   "metadata": {},
   "outputs": [
    {
     "name": "stderr",
     "output_type": "stream",
     "text": [
      "C:\\Users\\vitof\\AppData\\Local\\Programs\\Python\\Python38\\lib\\selectors.py:192: RuntimeWarning: coroutine 'main' was never awaited\n",
      "  raise KeyError(\"{!r} is not registered\".format(fileobj)) from None\n",
      "RuntimeWarning: Enable tracemalloc to get the object allocation traceback\n"
     ]
    }
   ],
   "source": [
    "# init and start the WebSocket\n",
    "bsm = ThreadedWebsocketManager()\n",
    "bsm.start()"
   ]
  },
  {
   "cell_type": "code",
   "execution_count": 12,
   "metadata": {},
   "outputs": [
    {
     "data": {
      "text/plain": [
       "'btcusdt@ticker'"
      ]
     },
     "execution_count": 12,
     "metadata": {},
     "output_type": "execute_result"
    },
    {
     "name": "stdout",
     "output_type": "stream",
     "text": [
      "63206.69000000\n",
      "63211.89000000\n",
      "63211.85000000\n",
      "63212.41000000\n",
      "63201.73000000\n",
      "63209.33000000\n",
      "63198.78000000\n",
      "63194.08000000\n",
      "63203.13000000\n",
      "63199.80000000\n",
      "63203.13000000\n",
      "63203.12000000\n",
      "63198.61000000\n",
      "63199.99000000\n",
      "63203.99000000\n",
      "63211.87000000\n",
      "63199.31000000\n",
      "63198.19000000\n",
      "63203.94000000\n",
      "63200.01000000\n",
      "63190.90000000\n",
      "63191.41000000\n",
      "63194.80000000\n",
      "63194.84000000\n",
      "63191.42000000\n",
      "63191.41000000\n",
      "63186.04000000\n",
      "63190.27000000\n",
      "63189.09000000\n",
      "63189.09000000\n",
      "63187.14000000\n",
      "63187.11000000\n",
      "63186.66000000\n",
      "63187.12000000\n",
      "63190.27000000\n",
      "63187.11000000\n",
      "63190.45000000\n",
      "63176.02000000\n",
      "63186.03000000\n",
      "63186.03000000\n",
      "63188.18000000\n",
      "63186.03000000\n",
      "63188.79000000\n",
      "63188.79000000\n"
     ]
    }
   ],
   "source": [
    "# subscribe to a stream\n",
    "bsm.start_symbol_ticker_socket(callback=btc_trade_history, symbol='BTCUSDT')"
   ]
  },
  {
   "cell_type": "code",
   "execution_count": 13,
   "metadata": {},
   "outputs": [
    {
     "name": "stdout",
     "output_type": "stream",
     "text": [
      "63185.10000000\n"
     ]
    }
   ],
   "source": [
    "bsm.stop()"
   ]
  },
  {
   "cell_type": "code",
   "execution_count": null,
   "metadata": {},
   "outputs": [],
   "source": [
    "# valid intervals - 1m, 3m, 5m, 15m, 30m, 1h, 2h, 4h, 6h, 8h, 12h, 1d, 3d, 1w, 1M\n",
    "\n",
    "# get timestamp of earliest date data is available\n",
    "timestamp = client._get_earliest_valid_timestamp('BTCUSDT', '1d')\n",
    "print(timestamp)"
   ]
  },
  {
   "cell_type": "code",
   "execution_count": null,
   "metadata": {},
   "outputs": [],
   "source": [
    "# request historical candle (or klines) data\n",
    "bars = client.get_historical_klines('BTCUSDT', '1d', timestamp, limit=1000)"
   ]
  },
  {
   "cell_type": "code",
   "execution_count": 14,
   "metadata": {},
   "outputs": [
    {
     "name": "stdout",
     "output_type": "stream",
     "text": [
      "1502928000000\n"
     ]
    }
   ],
   "source": [
    "# valid intervals - 1m, 3m, 5m, 15m, 30m, 1h, 2h, 4h, 6h, 8h, 12h, 1d, 3d, 1w, 1M\n",
    "\n",
    "# get timestamp of earliest date data is available\n",
    "timestamp = client._get_earliest_valid_timestamp('BTCUSDT', '1d')\n",
    "print(timestamp)"
   ]
  },
  {
   "cell_type": "code",
   "execution_count": 24,
   "metadata": {},
   "outputs": [
    {
     "name": "stdout",
     "output_type": "stream",
     "text": [
      "                         open            high            low           close\n",
      "date                                                                        \n",
      "1504224000000   4689.89000000   4939.19000000  2817.00000000   4378.51000000\n",
      "1506816000000   4378.49000000   6498.01000000  4110.00000000   6463.00000000\n",
      "1509494400000   6463.00000000  11300.03000000  5325.01000000   9838.96000000\n",
      "1512086400000   9837.00000000  19798.68000000  9380.00000000  13716.36000000\n",
      "1514764800000  13715.65000000  17176.24000000  9035.00000000  10285.10000000\n"
     ]
    }
   ],
   "source": [
    "import pandas as pd\n",
    "\n",
    "# request historical candle (or klines) data\n",
    "bars = client.get_historical_klines('BTCUSDT', '1M', timestamp, limit=1000)\n",
    "\n",
    "# delete unwanted data - just keep date, open, high, low, close\n",
    "for line in bars:\n",
    "    del line[5:]\n",
    "\n",
    "# option 4 - create a Pandas DataFrame and export to CSV\n",
    "btc_df = pd.DataFrame(bars, columns=['date', 'open', 'high', 'low', 'close'])\n",
    "btc_df.set_index('date', inplace=True)\n",
    "print(btc_df.head())\n",
    "\n",
    "# export DataFrame to csv\n",
    "btc_df.to_csv('btc_bars3.csv')"
   ]
  }
 ],
 "metadata": {
  "interpreter": {
   "hash": "8a0d656dc153cdc211c1d6d750d45c3d18ca960a8104840fe448cd8159694ab5"
  },
  "kernelspec": {
   "display_name": "Python 3.8.10 64-bit",
   "name": "python3"
  },
  "language_info": {
   "codemirror_mode": {
    "name": "ipython",
    "version": 3
   },
   "file_extension": ".py",
   "mimetype": "text/x-python",
   "name": "python",
   "nbconvert_exporter": "python",
   "pygments_lexer": "ipython3",
   "version": "3.8.10"
  },
  "orig_nbformat": 4
 },
 "nbformat": 4,
 "nbformat_minor": 2
}
