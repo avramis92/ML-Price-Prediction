{
 "cells": [
  {
   "cell_type": "markdown",
   "metadata": {},
   "source": [
    "# Hyper parameters"
   ]
  },
  {
   "cell_type": "code",
   "execution_count": 279,
   "metadata": {},
   "outputs": [],
   "source": [
    "DAYS_FUTURE = 50\n",
    "DAYS_PAST = 50\n",
    "\n",
    "HP_UNITS = 200\n",
    "HP_LAYERS = 3\n",
    "\n",
    "TRAIN_START = \"2015-01-01\"\n",
    "TRAIN_END = \"2020-01-01\"\n",
    "\n",
    "TEST_START = \"2020-01-01\"\n",
    "TEST_END = \"2021-01-01\"\n",
    "\n",
    "HP_DROPOUT = 0.4\n",
    "HP_LR = 0.001\n",
    "HP_BATCH_SIZE = 32\n",
    "HP_EPOCHS = 350\n",
    "\n",
    "# labels = ['next1', 'next2', 'next3']\n",
    "labels = ['next1']\n",
    "SPREAD = 0.00000\n",
    "\n",
    "INIT_DEPOSIT = 1000\n"
   ]
  },
  {
   "cell_type": "code",
   "execution_count": 280,
   "metadata": {},
   "outputs": [],
   "source": [
    "\n",
    "import matplotlib.pyplot as plt\n",
    "import matplotlib as mpl\n",
    "import numpy as np\n",
    "import pandas as pd\n",
    "%matplotlib inline\n"
   ]
  },
  {
   "cell_type": "markdown",
   "metadata": {},
   "source": [
    "# Get Data"
   ]
  },
  {
   "cell_type": "code",
   "execution_count": 281,
   "metadata": {},
   "outputs": [],
   "source": [
    "import quandl as q "
   ]
  },
  {
   "cell_type": "code",
   "execution_count": 282,
   "metadata": {},
   "outputs": [],
   "source": [
    "q.ApiConfig.api_key = '11sy5SMsFERx_YypjsMi'"
   ]
  },
  {
   "cell_type": "code",
   "execution_count": 308,
   "metadata": {},
   "outputs": [],
   "source": [
    "data = q.get('BITFINEX/BTCUSD') "
   ]
  },
  {
   "cell_type": "code",
   "execution_count": 336,
   "metadata": {},
   "outputs": [
    {
     "name": "stdout",
     "output_type": "stream",
     "text": [
      "{'symbol': 'BTCUSDT', 'price': '63329.45000000'}\n"
     ]
    }
   ],
   "source": [
    "import os\n",
    "from binance.client import Client\n",
    "\n",
    "client = Client('ECKmhCpRn2Wp3hL8J5ae6hIyXWl6nwMCInT8h4UI0dbUVeNngeyu9Zv7UAcOoBfs',\n",
    "                '9pqP4wgHObK9W8WwUkT29zfTg8wZ1d84gAvnWwT8M6bHt4FY1ysFvNnTTMUZRh0P')\n",
    "\n",
    "# get latest price from Binance API\n",
    "btc_price = client.get_symbol_ticker(symbol=\"BTCUSDT\")\n",
    "\n",
    "# print full output (dictionary)\n",
    "print(btc_price)\n"
   ]
  },
  {
   "cell_type": "code",
   "execution_count": 337,
   "metadata": {},
   "outputs": [],
   "source": [
    "bars = client.get_historical_klines('BTCUSDT', '30m',  \"2021-01-01\", \"2021-11-01\")\n"
   ]
  },
  {
   "cell_type": "code",
   "execution_count": 338,
   "metadata": {},
   "outputs": [],
   "source": [
    "from datetime import datetime\n",
    "\n",
    "for line in bars:\n",
    "    del line[2:]\n",
    "\n",
    "data = pd.DataFrame(bars, columns=['Date', 'Last'])\n",
    "data['Date'] = pd.to_datetime(data['Date'], unit='ms')\n",
    "data['Last'] = pd.to_numeric(data['Last'])\n",
    "\n",
    "data.set_index('Date', inplace=True)\n",
    "data.to_csv('btc_bars30.csv')\n"
   ]
  },
  {
   "cell_type": "code",
   "execution_count": 339,
   "metadata": {},
   "outputs": [
    {
     "data": {
      "text/html": [
       "<div>\n",
       "<style scoped>\n",
       "    .dataframe tbody tr th:only-of-type {\n",
       "        vertical-align: middle;\n",
       "    }\n",
       "\n",
       "    .dataframe tbody tr th {\n",
       "        vertical-align: top;\n",
       "    }\n",
       "\n",
       "    .dataframe thead th {\n",
       "        text-align: right;\n",
       "    }\n",
       "</style>\n",
       "<table border=\"1\" class=\"dataframe\">\n",
       "  <thead>\n",
       "    <tr style=\"text-align: right;\">\n",
       "      <th></th>\n",
       "      <th>Last</th>\n",
       "    </tr>\n",
       "    <tr>\n",
       "      <th>Date</th>\n",
       "      <th></th>\n",
       "    </tr>\n",
       "  </thead>\n",
       "  <tbody>\n",
       "    <tr>\n",
       "      <th>2021-01-01 00:00:00</th>\n",
       "      <td>28923.63</td>\n",
       "    </tr>\n",
       "    <tr>\n",
       "      <th>2021-01-01 00:30:00</th>\n",
       "      <td>28836.63</td>\n",
       "    </tr>\n",
       "    <tr>\n",
       "      <th>2021-01-01 01:00:00</th>\n",
       "      <td>28995.13</td>\n",
       "    </tr>\n",
       "    <tr>\n",
       "      <th>2021-01-01 01:30:00</th>\n",
       "      <td>29387.07</td>\n",
       "    </tr>\n",
       "    <tr>\n",
       "      <th>2021-01-01 02:00:00</th>\n",
       "      <td>29410.00</td>\n",
       "    </tr>\n",
       "    <tr>\n",
       "      <th>...</th>\n",
       "      <td>...</td>\n",
       "    </tr>\n",
       "    <tr>\n",
       "      <th>2021-10-31 22:00:00</th>\n",
       "      <td>61444.34</td>\n",
       "    </tr>\n",
       "    <tr>\n",
       "      <th>2021-10-31 22:30:00</th>\n",
       "      <td>61485.77</td>\n",
       "    </tr>\n",
       "    <tr>\n",
       "      <th>2021-10-31 23:00:00</th>\n",
       "      <td>61365.72</td>\n",
       "    </tr>\n",
       "    <tr>\n",
       "      <th>2021-10-31 23:30:00</th>\n",
       "      <td>61425.00</td>\n",
       "    </tr>\n",
       "    <tr>\n",
       "      <th>2021-11-01 00:00:00</th>\n",
       "      <td>61299.81</td>\n",
       "    </tr>\n",
       "  </tbody>\n",
       "</table>\n",
       "<p>14562 rows × 1 columns</p>\n",
       "</div>"
      ],
      "text/plain": [
       "                         Last\n",
       "Date                         \n",
       "2021-01-01 00:00:00  28923.63\n",
       "2021-01-01 00:30:00  28836.63\n",
       "2021-01-01 01:00:00  28995.13\n",
       "2021-01-01 01:30:00  29387.07\n",
       "2021-01-01 02:00:00  29410.00\n",
       "...                       ...\n",
       "2021-10-31 22:00:00  61444.34\n",
       "2021-10-31 22:30:00  61485.77\n",
       "2021-10-31 23:00:00  61365.72\n",
       "2021-10-31 23:30:00  61425.00\n",
       "2021-11-01 00:00:00  61299.81\n",
       "\n",
       "[14562 rows x 1 columns]"
      ]
     },
     "execution_count": 339,
     "metadata": {},
     "output_type": "execute_result"
    }
   ],
   "source": [
    "data"
   ]
  },
  {
   "cell_type": "code",
   "execution_count": 340,
   "metadata": {},
   "outputs": [
    {
     "data": {
      "text/plain": [
       "<AxesSubplot:xlabel='Date'>"
      ]
     },
     "execution_count": 340,
     "metadata": {},
     "output_type": "execute_result"
    },
    {
     "data": {
      "image/png": "[encoded data removed]",
      "text/plain": [
       "<Figure size 1080x720 with 1 Axes>"
      ]
     },
     "metadata": {
      "needs_background": "dark"
     },
     "output_type": "display_data"
    }
   ],
   "source": [
    "# show candles\n",
    "data['Last'].plot(figsize=(15, 10))\n"
   ]
  },
  {
   "cell_type": "markdown",
   "metadata": {},
   "source": [
    "# Create features"
   ]
  },
  {
   "cell_type": "code",
   "execution_count": 341,
   "metadata": {},
   "outputs": [],
   "source": [
    "for i in range(1, INTERVALS_PAST):\n",
    "    data['prev' + str(i)] = np.log(data['Last'] / data['Last'].shift(i))\n"
   ]
  },
  {
   "cell_type": "code",
   "execution_count": 342,
   "metadata": {},
   "outputs": [],
   "source": [
    "for i in range(1, INTERVALS_FUTURE):\n",
    "    data['next' + str(i)] = np.log(data['Last'] / data['Last'].shift(-i))\n"
   ]
  },
  {
   "cell_type": "code",
   "execution_count": 343,
   "metadata": {},
   "outputs": [
    {
     "data": {
      "text/html": [
       "<div>\n",
       "<style scoped>\n",
       "    .dataframe tbody tr th:only-of-type {\n",
       "        vertical-align: middle;\n",
       "    }\n",
       "\n",
       "    .dataframe tbody tr th {\n",
       "        vertical-align: top;\n",
       "    }\n",
       "\n",
       "    .dataframe thead th {\n",
       "        text-align: right;\n",
       "    }\n",
       "</style>\n",
       "<table border=\"1\" class=\"dataframe\">\n",
       "  <thead>\n",
       "    <tr style=\"text-align: right;\">\n",
       "      <th></th>\n",
       "      <th>Last</th>\n",
       "      <th>prev1</th>\n",
       "      <th>prev2</th>\n",
       "      <th>prev3</th>\n",
       "      <th>prev4</th>\n",
       "      <th>prev5</th>\n",
       "      <th>prev6</th>\n",
       "      <th>prev7</th>\n",
       "      <th>prev8</th>\n",
       "      <th>prev9</th>\n",
       "      <th>...</th>\n",
       "      <th>next40</th>\n",
       "      <th>next41</th>\n",
       "      <th>next42</th>\n",
       "      <th>next43</th>\n",
       "      <th>next44</th>\n",
       "      <th>next45</th>\n",
       "      <th>next46</th>\n",
       "      <th>next47</th>\n",
       "      <th>next48</th>\n",
       "      <th>next49</th>\n",
       "    </tr>\n",
       "    <tr>\n",
       "      <th>Date</th>\n",
       "      <th></th>\n",
       "      <th></th>\n",
       "      <th></th>\n",
       "      <th></th>\n",
       "      <th></th>\n",
       "      <th></th>\n",
       "      <th></th>\n",
       "      <th></th>\n",
       "      <th></th>\n",
       "      <th></th>\n",
       "      <th></th>\n",
       "      <th></th>\n",
       "      <th></th>\n",
       "      <th></th>\n",
       "      <th></th>\n",
       "      <th></th>\n",
       "      <th></th>\n",
       "      <th></th>\n",
       "      <th></th>\n",
       "      <th></th>\n",
       "      <th></th>\n",
       "    </tr>\n",
       "  </thead>\n",
       "  <tbody>\n",
       "    <tr>\n",
       "      <th>2021-01-01 00:00:00</th>\n",
       "      <td>28923.63</td>\n",
       "      <td>NaN</td>\n",
       "      <td>NaN</td>\n",
       "      <td>NaN</td>\n",
       "      <td>NaN</td>\n",
       "      <td>NaN</td>\n",
       "      <td>NaN</td>\n",
       "      <td>NaN</td>\n",
       "      <td>NaN</td>\n",
       "      <td>NaN</td>\n",
       "      <td>...</td>\n",
       "      <td>-0.003638</td>\n",
       "      <td>-0.009942</td>\n",
       "      <td>-0.009543</td>\n",
       "      <td>-0.010393</td>\n",
       "      <td>-0.008248</td>\n",
       "      <td>-0.011935</td>\n",
       "      <td>-0.011642</td>\n",
       "      <td>-0.012117</td>\n",
       "      <td>-0.014010</td>\n",
       "      <td>-0.003748</td>\n",
       "    </tr>\n",
       "    <tr>\n",
       "      <th>2021-01-01 00:30:00</th>\n",
       "      <td>28836.63</td>\n",
       "      <td>-0.003012</td>\n",
       "      <td>NaN</td>\n",
       "      <td>NaN</td>\n",
       "      <td>NaN</td>\n",
       "      <td>NaN</td>\n",
       "      <td>NaN</td>\n",
       "      <td>NaN</td>\n",
       "      <td>NaN</td>\n",
       "      <td>NaN</td>\n",
       "      <td>...</td>\n",
       "      <td>-0.012954</td>\n",
       "      <td>-0.012555</td>\n",
       "      <td>-0.013405</td>\n",
       "      <td>-0.011260</td>\n",
       "      <td>-0.014947</td>\n",
       "      <td>-0.014654</td>\n",
       "      <td>-0.015130</td>\n",
       "      <td>-0.017022</td>\n",
       "      <td>-0.006760</td>\n",
       "      <td>-0.012451</td>\n",
       "    </tr>\n",
       "    <tr>\n",
       "      <th>2021-01-01 01:00:00</th>\n",
       "      <td>28995.13</td>\n",
       "      <td>0.005481</td>\n",
       "      <td>0.002469</td>\n",
       "      <td>NaN</td>\n",
       "      <td>NaN</td>\n",
       "      <td>NaN</td>\n",
       "      <td>NaN</td>\n",
       "      <td>NaN</td>\n",
       "      <td>NaN</td>\n",
       "      <td>NaN</td>\n",
       "      <td>...</td>\n",
       "      <td>-0.007074</td>\n",
       "      <td>-0.007924</td>\n",
       "      <td>-0.005779</td>\n",
       "      <td>-0.009466</td>\n",
       "      <td>-0.009173</td>\n",
       "      <td>-0.009648</td>\n",
       "      <td>-0.011541</td>\n",
       "      <td>-0.001279</td>\n",
       "      <td>-0.006970</td>\n",
       "      <td>-0.007330</td>\n",
       "    </tr>\n",
       "    <tr>\n",
       "      <th>2021-01-01 01:30:00</th>\n",
       "      <td>29387.07</td>\n",
       "      <td>0.013427</td>\n",
       "      <td>0.018908</td>\n",
       "      <td>0.015896</td>\n",
       "      <td>NaN</td>\n",
       "      <td>NaN</td>\n",
       "      <td>NaN</td>\n",
       "      <td>NaN</td>\n",
       "      <td>NaN</td>\n",
       "      <td>NaN</td>\n",
       "      <td>...</td>\n",
       "      <td>0.005503</td>\n",
       "      <td>0.007648</td>\n",
       "      <td>0.003961</td>\n",
       "      <td>0.004254</td>\n",
       "      <td>0.003779</td>\n",
       "      <td>0.001886</td>\n",
       "      <td>0.012148</td>\n",
       "      <td>0.006457</td>\n",
       "      <td>0.006097</td>\n",
       "      <td>0.000940</td>\n",
       "    </tr>\n",
       "    <tr>\n",
       "      <th>2021-01-01 02:00:00</th>\n",
       "      <td>29410.00</td>\n",
       "      <td>0.000780</td>\n",
       "      <td>0.014207</td>\n",
       "      <td>0.019688</td>\n",
       "      <td>0.016676</td>\n",
       "      <td>NaN</td>\n",
       "      <td>NaN</td>\n",
       "      <td>NaN</td>\n",
       "      <td>NaN</td>\n",
       "      <td>NaN</td>\n",
       "      <td>...</td>\n",
       "      <td>0.008428</td>\n",
       "      <td>0.004741</td>\n",
       "      <td>0.005034</td>\n",
       "      <td>0.004558</td>\n",
       "      <td>0.002666</td>\n",
       "      <td>0.012928</td>\n",
       "      <td>0.007237</td>\n",
       "      <td>0.006877</td>\n",
       "      <td>0.001720</td>\n",
       "      <td>-0.000147</td>\n",
       "    </tr>\n",
       "    <tr>\n",
       "      <th>...</th>\n",
       "      <td>...</td>\n",
       "      <td>...</td>\n",
       "      <td>...</td>\n",
       "      <td>...</td>\n",
       "      <td>...</td>\n",
       "      <td>...</td>\n",
       "      <td>...</td>\n",
       "      <td>...</td>\n",
       "      <td>...</td>\n",
       "      <td>...</td>\n",
       "      <td>...</td>\n",
       "      <td>...</td>\n",
       "      <td>...</td>\n",
       "      <td>...</td>\n",
       "      <td>...</td>\n",
       "      <td>...</td>\n",
       "      <td>...</td>\n",
       "      <td>...</td>\n",
       "      <td>...</td>\n",
       "      <td>...</td>\n",
       "      <td>...</td>\n",
       "    </tr>\n",
       "    <tr>\n",
       "      <th>2021-10-31 22:00:00</th>\n",
       "      <td>61444.34</td>\n",
       "      <td>0.004384</td>\n",
       "      <td>0.008531</td>\n",
       "      <td>0.007881</td>\n",
       "      <td>0.012354</td>\n",
       "      <td>0.011014</td>\n",
       "      <td>0.012095</td>\n",
       "      <td>0.016151</td>\n",
       "      <td>0.013599</td>\n",
       "      <td>0.008789</td>\n",
       "      <td>...</td>\n",
       "      <td>NaN</td>\n",
       "      <td>NaN</td>\n",
       "      <td>NaN</td>\n",
       "      <td>NaN</td>\n",
       "      <td>NaN</td>\n",
       "      <td>NaN</td>\n",
       "      <td>NaN</td>\n",
       "      <td>NaN</td>\n",
       "      <td>NaN</td>\n",
       "      <td>NaN</td>\n",
       "    </tr>\n",
       "    <tr>\n",
       "      <th>2021-10-31 22:30:00</th>\n",
       "      <td>61485.77</td>\n",
       "      <td>0.000674</td>\n",
       "      <td>0.005058</td>\n",
       "      <td>0.009205</td>\n",
       "      <td>0.008555</td>\n",
       "      <td>0.013028</td>\n",
       "      <td>0.011688</td>\n",
       "      <td>0.012769</td>\n",
       "      <td>0.016825</td>\n",
       "      <td>0.014273</td>\n",
       "      <td>...</td>\n",
       "      <td>NaN</td>\n",
       "      <td>NaN</td>\n",
       "      <td>NaN</td>\n",
       "      <td>NaN</td>\n",
       "      <td>NaN</td>\n",
       "      <td>NaN</td>\n",
       "      <td>NaN</td>\n",
       "      <td>NaN</td>\n",
       "      <td>NaN</td>\n",
       "      <td>NaN</td>\n",
       "    </tr>\n",
       "    <tr>\n",
       "      <th>2021-10-31 23:00:00</th>\n",
       "      <td>61365.72</td>\n",
       "      <td>-0.001954</td>\n",
       "      <td>-0.001280</td>\n",
       "      <td>0.003104</td>\n",
       "      <td>0.007251</td>\n",
       "      <td>0.006600</td>\n",
       "      <td>0.011073</td>\n",
       "      <td>0.009734</td>\n",
       "      <td>0.010815</td>\n",
       "      <td>0.014871</td>\n",
       "      <td>...</td>\n",
       "      <td>NaN</td>\n",
       "      <td>NaN</td>\n",
       "      <td>NaN</td>\n",
       "      <td>NaN</td>\n",
       "      <td>NaN</td>\n",
       "      <td>NaN</td>\n",
       "      <td>NaN</td>\n",
       "      <td>NaN</td>\n",
       "      <td>NaN</td>\n",
       "      <td>NaN</td>\n",
       "    </tr>\n",
       "    <tr>\n",
       "      <th>2021-10-31 23:30:00</th>\n",
       "      <td>61425.00</td>\n",
       "      <td>0.000966</td>\n",
       "      <td>-0.000989</td>\n",
       "      <td>-0.000315</td>\n",
       "      <td>0.004070</td>\n",
       "      <td>0.008217</td>\n",
       "      <td>0.007566</td>\n",
       "      <td>0.012039</td>\n",
       "      <td>0.010699</td>\n",
       "      <td>0.011781</td>\n",
       "      <td>...</td>\n",
       "      <td>NaN</td>\n",
       "      <td>NaN</td>\n",
       "      <td>NaN</td>\n",
       "      <td>NaN</td>\n",
       "      <td>NaN</td>\n",
       "      <td>NaN</td>\n",
       "      <td>NaN</td>\n",
       "      <td>NaN</td>\n",
       "      <td>NaN</td>\n",
       "      <td>NaN</td>\n",
       "    </tr>\n",
       "    <tr>\n",
       "      <th>2021-11-01 00:00:00</th>\n",
       "      <td>61299.81</td>\n",
       "      <td>-0.002040</td>\n",
       "      <td>-0.001075</td>\n",
       "      <td>-0.003029</td>\n",
       "      <td>-0.002355</td>\n",
       "      <td>0.002029</td>\n",
       "      <td>0.006176</td>\n",
       "      <td>0.005526</td>\n",
       "      <td>0.009999</td>\n",
       "      <td>0.008659</td>\n",
       "      <td>...</td>\n",
       "      <td>NaN</td>\n",
       "      <td>NaN</td>\n",
       "      <td>NaN</td>\n",
       "      <td>NaN</td>\n",
       "      <td>NaN</td>\n",
       "      <td>NaN</td>\n",
       "      <td>NaN</td>\n",
       "      <td>NaN</td>\n",
       "      <td>NaN</td>\n",
       "      <td>NaN</td>\n",
       "    </tr>\n",
       "  </tbody>\n",
       "</table>\n",
       "<p>14562 rows × 99 columns</p>\n",
       "</div>"
      ],
      "text/plain": [
       "                         Last     prev1     prev2     prev3     prev4  \\\n",
       "Date                                                                    \n",
       "2021-01-01 00:00:00  28923.63       NaN       NaN       NaN       NaN   \n",
       "2021-01-01 00:30:00  28836.63 -0.003012       NaN       NaN       NaN   \n",
       "2021-01-01 01:00:00  28995.13  0.005481  0.002469       NaN       NaN   \n",
       "2021-01-01 01:30:00  29387.07  0.013427  0.018908  0.015896       NaN   \n",
       "2021-01-01 02:00:00  29410.00  0.000780  0.014207  0.019688  0.016676   \n",
       "...                       ...       ...       ...       ...       ...   \n",
       "2021-10-31 22:00:00  61444.34  0.004384  0.008531  0.007881  0.012354   \n",
       "2021-10-31 22:30:00  61485.77  0.000674  0.005058  0.009205  0.008555   \n",
       "2021-10-31 23:00:00  61365.72 -0.001954 -0.001280  0.003104  0.007251   \n",
       "2021-10-31 23:30:00  61425.00  0.000966 -0.000989 -0.000315  0.004070   \n",
       "2021-11-01 00:00:00  61299.81 -0.002040 -0.001075 -0.003029 -0.002355   \n",
       "\n",
       "                        prev5     prev6     prev7     prev8     prev9  ...  \\\n",
       "Date                                                                   ...   \n",
       "2021-01-01 00:00:00       NaN       NaN       NaN       NaN       NaN  ...   \n",
       "2021-01-01 00:30:00       NaN       NaN       NaN       NaN       NaN  ...   \n",
       "2021-01-01 01:00:00       NaN       NaN       NaN       NaN       NaN  ...   \n",
       "2021-01-01 01:30:00       NaN       NaN       NaN       NaN       NaN  ...   \n",
       "2021-01-01 02:00:00       NaN       NaN       NaN       NaN       NaN  ...   \n",
       "...                       ...       ...       ...       ...       ...  ...   \n",
       "2021-10-31 22:00:00  0.011014  0.012095  0.016151  0.013599  0.008789  ...   \n",
       "2021-10-31 22:30:00  0.013028  0.011688  0.012769  0.016825  0.014273  ...   \n",
       "2021-10-31 23:00:00  0.006600  0.011073  0.009734  0.010815  0.014871  ...   \n",
       "2021-10-31 23:30:00  0.008217  0.007566  0.012039  0.010699  0.011781  ...   \n",
       "2021-11-01 00:00:00  0.002029  0.006176  0.005526  0.009999  0.008659  ...   \n",
       "\n",
       "                       next40    next41    next42    next43    next44  \\\n",
       "Date                                                                    \n",
       "2021-01-01 00:00:00 -0.003638 -0.009942 -0.009543 -0.010393 -0.008248   \n",
       "2021-01-01 00:30:00 -0.012954 -0.012555 -0.013405 -0.011260 -0.014947   \n",
       "2021-01-01 01:00:00 -0.007074 -0.007924 -0.005779 -0.009466 -0.009173   \n",
       "2021-01-01 01:30:00  0.005503  0.007648  0.003961  0.004254  0.003779   \n",
       "2021-01-01 02:00:00  0.008428  0.004741  0.005034  0.004558  0.002666   \n",
       "...                       ...       ...       ...       ...       ...   \n",
       "2021-10-31 22:00:00       NaN       NaN       NaN       NaN       NaN   \n",
       "2021-10-31 22:30:00       NaN       NaN       NaN       NaN       NaN   \n",
       "2021-10-31 23:00:00       NaN       NaN       NaN       NaN       NaN   \n",
       "2021-10-31 23:30:00       NaN       NaN       NaN       NaN       NaN   \n",
       "2021-11-01 00:00:00       NaN       NaN       NaN       NaN       NaN   \n",
       "\n",
       "                       next45    next46    next47    next48    next49  \n",
       "Date                                                                   \n",
       "2021-01-01 00:00:00 -0.011935 -0.011642 -0.012117 -0.014010 -0.003748  \n",
       "2021-01-01 00:30:00 -0.014654 -0.015130 -0.017022 -0.006760 -0.012451  \n",
       "2021-01-01 01:00:00 -0.009648 -0.011541 -0.001279 -0.006970 -0.007330  \n",
       "2021-01-01 01:30:00  0.001886  0.012148  0.006457  0.006097  0.000940  \n",
       "2021-01-01 02:00:00  0.012928  0.007237  0.006877  0.001720 -0.000147  \n",
       "...                       ...       ...       ...       ...       ...  \n",
       "2021-10-31 22:00:00       NaN       NaN       NaN       NaN       NaN  \n",
       "2021-10-31 22:30:00       NaN       NaN       NaN       NaN       NaN  \n",
       "2021-10-31 23:00:00       NaN       NaN       NaN       NaN       NaN  \n",
       "2021-10-31 23:30:00       NaN       NaN       NaN       NaN       NaN  \n",
       "2021-11-01 00:00:00       NaN       NaN       NaN       NaN       NaN  \n",
       "\n",
       "[14562 rows x 99 columns]"
      ]
     },
     "execution_count": 343,
     "metadata": {},
     "output_type": "execute_result"
    }
   ],
   "source": [
    "data"
   ]
  },
  {
   "cell_type": "markdown",
   "metadata": {},
   "source": [
    "# Model create"
   ]
  },
  {
   "cell_type": "code",
   "execution_count": 344,
   "metadata": {},
   "outputs": [],
   "source": [
    "import tensorflow as tf\n"
   ]
  },
  {
   "cell_type": "code",
   "execution_count": 345,
   "metadata": {},
   "outputs": [],
   "source": [
    "# create an MLP model\n",
    "def create_model(input_shape, output_shape):\n",
    "    model = tf.keras.models.Sequential()\n",
    "    model.add(tf.keras.layers.Dense(units=HP_UNITS,\n",
    "              activation='relu', input_shape=input_shape))\n",
    "    for a in range(HP_LAYERS):\n",
    "        model.add(tf.keras.layers.Dense(units=HP_UNITS, activation='relu'))\n",
    "        if a != HP_LAYERS:\n",
    "            model.add(tf.keras.layers.Dropout(HP_DROPOUT))\n",
    "\n",
    "    model.add(tf.keras.layers.Dense(units=output_shape, activation='linear'))\n",
    "    model.compile(loss='mse', optimizer=tf.keras.optimizers.Adam(\n",
    "        HP_LR), metrics=[\"accuracy\"])\n",
    "    return model\n"
   ]
  },
  {
   "cell_type": "markdown",
   "metadata": {},
   "source": [
    "# Split to train set and test set"
   ]
  },
  {
   "cell_type": "code",
   "execution_count": 346,
   "metadata": {},
   "outputs": [],
   "source": [
    "X_train = data.loc[(data.index >= TRAIN_START) &\n",
    "                   (data.index <= TRAIN_END)]\n",
    "X_test = data.loc[(data.index >= TEST_START) &\n",
    "                  (data.index <= TEST_END)]\n"
   ]
  },
  {
   "cell_type": "code",
   "execution_count": 347,
   "metadata": {},
   "outputs": [],
   "source": [
    "\n",
    "y_train = X_train[labels].to_numpy()  # X - source, y - target\n",
    "y_test = X_test[labels].to_numpy()\n"
   ]
  },
  {
   "cell_type": "code",
   "execution_count": 348,
   "metadata": {},
   "outputs": [],
   "source": [
    "columns = []\n",
    "for i in range(1, INTERVALS_PAST):\n",
    "    columns.append('prev' + str(i))\n"
   ]
  },
  {
   "cell_type": "code",
   "execution_count": 349,
   "metadata": {},
   "outputs": [],
   "source": [
    "X_train = X_train[columns].to_numpy()\n",
    "X_test_times = X_test.index\n",
    "X_test_price = X_test['Last'].to_numpy()\n",
    "X_test = X_test[columns].to_numpy()\n"
   ]
  },
  {
   "cell_type": "code",
   "execution_count": 350,
   "metadata": {},
   "outputs": [],
   "source": [
    "train_ds = tf.data.Dataset.from_tensor_slices(((X_train), y_train))\n",
    "train_ds = train_ds.take(len(X_train))\n",
    "test_ds = tf.data.Dataset.from_tensor_slices(((X_test), y_test))\n",
    "test_ds = test_ds.take(len(X_test))\n",
    "train_ds = train_ds.batch(HP_BATCH_SIZE, False).prefetch(tf.data.AUTOTUNE)\n",
    "test_ds = test_ds.batch(len(X_test), False).prefetch(tf.data.AUTOTUNE)\n"
   ]
  },
  {
   "cell_type": "code",
   "execution_count": 351,
   "metadata": {},
   "outputs": [
    {
     "data": {
      "text/plain": [
       "(13074, 49)"
      ]
     },
     "execution_count": 351,
     "metadata": {},
     "output_type": "execute_result"
    }
   ],
   "source": [
    "X_train.shape"
   ]
  },
  {
   "cell_type": "code",
   "execution_count": 352,
   "metadata": {},
   "outputs": [
    {
     "data": {
      "text/plain": [
       "(1489, 49)"
      ]
     },
     "execution_count": 352,
     "metadata": {},
     "output_type": "execute_result"
    }
   ],
   "source": [
    "X_test.shape"
   ]
  },
  {
   "cell_type": "code",
   "execution_count": 353,
   "metadata": {},
   "outputs": [],
   "source": [
    "model = create_model(X_test[0].shape, len(y_test[0]))\n"
   ]
  },
  {
   "cell_type": "markdown",
   "metadata": {},
   "source": [
    "# Training model"
   ]
  },
  {
   "cell_type": "code",
   "execution_count": 354,
   "metadata": {},
   "outputs": [
    {
     "name": "stdout",
     "output_type": "stream",
     "text": [
      "Epoch 1/10\n",
      "26/26 - 1s - loss: nan - accuracy: 0.3775 - val_loss: nan - val_accuracy: 0.3761\n",
      "Epoch 2/10\n",
      "26/26 - 0s - loss: nan - accuracy: 0.3814 - val_loss: nan - val_accuracy: 0.3761\n",
      "Epoch 3/10\n",
      "26/26 - 0s - loss: nan - accuracy: 0.3814 - val_loss: nan - val_accuracy: 0.3761\n",
      "Epoch 4/10\n",
      "26/26 - 0s - loss: nan - accuracy: 0.3814 - val_loss: nan - val_accuracy: 0.3761\n",
      "Epoch 5/10\n",
      "26/26 - 0s - loss: nan - accuracy: 0.3814 - val_loss: nan - val_accuracy: 0.3761\n",
      "Epoch 6/10\n",
      "26/26 - 0s - loss: nan - accuracy: 0.3814 - val_loss: nan - val_accuracy: 0.3761\n",
      "Epoch 7/10\n",
      "26/26 - 0s - loss: nan - accuracy: 0.3814 - val_loss: nan - val_accuracy: 0.3761\n",
      "Epoch 8/10\n",
      "26/26 - 0s - loss: nan - accuracy: 0.3814 - val_loss: nan - val_accuracy: 0.3761\n",
      "Epoch 9/10\n",
      "26/26 - 0s - loss: nan - accuracy: 0.3814 - val_loss: nan - val_accuracy: 0.3761\n",
      "Epoch 10/10\n",
      "26/26 - 0s - loss: nan - accuracy: 0.3814 - val_loss: nan - val_accuracy: 0.3761\n"
     ]
    }
   ],
   "source": [
    "callback_early = tf.keras.callbacks.EarlyStopping(\n",
    "    monitor='val_loss', patience=50)\n",
    "\n",
    "\n",
    "history = model.fit(\n",
    "    X_train, y_train,\n",
    "    validation_data=(X_test, y_test),\n",
    "    batch_size=HP_BATCH_SIZE,\n",
    "    # callbacks=[callback_early],\n",
    "    verbose=2, epochs=HP_EPOCHS)\n"
   ]
  },
  {
   "cell_type": "code",
   "execution_count": 355,
   "metadata": {},
   "outputs": [],
   "source": [
    "# helper functions to plot accuracy and loss\n",
    "def plot_accuracy(history):\n",
    "    plt.plot(history.history['accuracy'])\n",
    "    plt.plot(history.history['val_accuracy'])\n",
    "    plt.title('model accuracy')\n",
    "    plt.ylabel('accuracy')\n",
    "    plt.xlabel('epoch')\n",
    "    plt.legend(['train', 'val'], loc='upper left')\n",
    "    plt.show()\n"
   ]
  },
  {
   "cell_type": "code",
   "execution_count": 356,
   "metadata": {},
   "outputs": [],
   "source": [
    "def plot_loss(history):\n",
    "    plt.plot(history.history['loss'])\n",
    "    plt.plot(history.history['val_loss'])\n",
    "    plt.title('model loss')\n",
    "    plt.ylabel('loss')\n",
    "    plt.xlabel('epoch')\n",
    "    plt.legend(['train', 'val'], loc='upper left')\n",
    "    plt.show()\n"
   ]
  },
  {
   "cell_type": "code",
   "execution_count": 357,
   "metadata": {},
   "outputs": [
    {
     "data": {
      "image/png": "[encoded data removed]",
      "text/plain": [
       "<Figure size 1080x720 with 1 Axes>"
      ]
     },
     "metadata": {
      "needs_background": "dark"
     },
     "output_type": "display_data"
    },
    {
     "data": {
      "image/png": "[encoded data removed]",
      "text/plain": [
       "<Figure size 1080x720 with 1 Axes>"
      ]
     },
     "metadata": {
      "needs_background": "dark"
     },
     "output_type": "display_data"
    }
   ],
   "source": [
    "plt.figure(figsize=(15, 10))\n",
    "plot_accuracy(history)\n",
    "plt.figure(figsize=(15, 10))\n",
    "plot_loss(history)\n"
   ]
  },
  {
   "cell_type": "markdown",
   "metadata": {},
   "source": [
    "# Trains results"
   ]
  },
  {
   "cell_type": "code",
   "execution_count": 358,
   "metadata": {},
   "outputs": [],
   "source": [
    "train_prediction = model.predict(X_train)\n"
   ]
  },
  {
   "cell_type": "code",
   "execution_count": 359,
   "metadata": {},
   "outputs": [
    {
     "ename": "ValueError",
     "evalue": "Input contains NaN, infinity or a value too large for dtype('float32').",
     "output_type": "error",
     "traceback": [
      "\u001b[1;31m---------------------------------------------------------------------------\u001b[0m",
      "\u001b[1;31mValueError\u001b[0m                                Traceback (most recent call last)",
      "\u001b[1;32m<ipython-input-359-5fde2624affe>\u001b[0m in \u001b[0;36m<module>\u001b[1;34m\u001b[0m\n\u001b[0;32m      1\u001b[0m \u001b[1;32mfrom\u001b[0m \u001b[0msklearn\u001b[0m\u001b[1;33m.\u001b[0m\u001b[0mmetrics\u001b[0m \u001b[1;32mimport\u001b[0m \u001b[0mmean_absolute_error\u001b[0m\u001b[1;33m\u001b[0m\u001b[1;33m\u001b[0m\u001b[0m\n\u001b[0;32m      2\u001b[0m \u001b[1;33m\u001b[0m\u001b[0m\n\u001b[1;32m----> 3\u001b[1;33m \u001b[0mtrain_mse\u001b[0m \u001b[1;33m=\u001b[0m \u001b[0mmean_absolute_error\u001b[0m\u001b[1;33m(\u001b[0m\u001b[0my_train\u001b[0m\u001b[1;33m,\u001b[0m \u001b[0mtrain_prediction\u001b[0m\u001b[1;33m)\u001b[0m\u001b[1;33m\u001b[0m\u001b[1;33m\u001b[0m\u001b[0m\n\u001b[0m\u001b[0;32m      4\u001b[0m \u001b[0mround\u001b[0m\u001b[1;33m(\u001b[0m\u001b[0mtrain_mse\u001b[0m\u001b[1;33m,\u001b[0m \u001b[1;36m5\u001b[0m\u001b[1;33m)\u001b[0m\u001b[1;33m\u001b[0m\u001b[1;33m\u001b[0m\u001b[0m\n",
      "\u001b[1;32m~\\AppData\\Roaming\\Python\\Python38\\site-packages\\sklearn\\utils\\validation.py\u001b[0m in \u001b[0;36minner_f\u001b[1;34m(*args, **kwargs)\u001b[0m\n\u001b[0;32m     61\u001b[0m             \u001b[0mextra_args\u001b[0m \u001b[1;33m=\u001b[0m \u001b[0mlen\u001b[0m\u001b[1;33m(\u001b[0m\u001b[0margs\u001b[0m\u001b[1;33m)\u001b[0m \u001b[1;33m-\u001b[0m \u001b[0mlen\u001b[0m\u001b[1;33m(\u001b[0m\u001b[0mall_args\u001b[0m\u001b[1;33m)\u001b[0m\u001b[1;33m\u001b[0m\u001b[1;33m\u001b[0m\u001b[0m\n\u001b[0;32m     62\u001b[0m             \u001b[1;32mif\u001b[0m \u001b[0mextra_args\u001b[0m \u001b[1;33m<=\u001b[0m \u001b[1;36m0\u001b[0m\u001b[1;33m:\u001b[0m\u001b[1;33m\u001b[0m\u001b[1;33m\u001b[0m\u001b[0m\n\u001b[1;32m---> 63\u001b[1;33m                 \u001b[1;32mreturn\u001b[0m \u001b[0mf\u001b[0m\u001b[1;33m(\u001b[0m\u001b[1;33m*\u001b[0m\u001b[0margs\u001b[0m\u001b[1;33m,\u001b[0m \u001b[1;33m**\u001b[0m\u001b[0mkwargs\u001b[0m\u001b[1;33m)\u001b[0m\u001b[1;33m\u001b[0m\u001b[1;33m\u001b[0m\u001b[0m\n\u001b[0m\u001b[0;32m     64\u001b[0m \u001b[1;33m\u001b[0m\u001b[0m\n\u001b[0;32m     65\u001b[0m             \u001b[1;31m# extra_args > 0\u001b[0m\u001b[1;33m\u001b[0m\u001b[1;33m\u001b[0m\u001b[1;33m\u001b[0m\u001b[0m\n",
      "\u001b[1;32m~\\AppData\\Roaming\\Python\\Python38\\site-packages\\sklearn\\metrics\\_regression.py\u001b[0m in \u001b[0;36mmean_absolute_error\u001b[1;34m(y_true, y_pred, sample_weight, multioutput)\u001b[0m\n\u001b[0;32m    180\u001b[0m     \u001b[1;36m0.85\u001b[0m\u001b[1;33m...\u001b[0m\u001b[1;33m\u001b[0m\u001b[1;33m\u001b[0m\u001b[0m\n\u001b[0;32m    181\u001b[0m     \"\"\"\n\u001b[1;32m--> 182\u001b[1;33m     y_type, y_true, y_pred, multioutput = _check_reg_targets(\n\u001b[0m\u001b[0;32m    183\u001b[0m         y_true, y_pred, multioutput)\n\u001b[0;32m    184\u001b[0m     \u001b[0mcheck_consistent_length\u001b[0m\u001b[1;33m(\u001b[0m\u001b[0my_true\u001b[0m\u001b[1;33m,\u001b[0m \u001b[0my_pred\u001b[0m\u001b[1;33m,\u001b[0m \u001b[0msample_weight\u001b[0m\u001b[1;33m)\u001b[0m\u001b[1;33m\u001b[0m\u001b[1;33m\u001b[0m\u001b[0m\n",
      "\u001b[1;32m~\\AppData\\Roaming\\Python\\Python38\\site-packages\\sklearn\\metrics\\_regression.py\u001b[0m in \u001b[0;36m_check_reg_targets\u001b[1;34m(y_true, y_pred, multioutput, dtype)\u001b[0m\n\u001b[0;32m     88\u001b[0m     \u001b[0mcheck_consistent_length\u001b[0m\u001b[1;33m(\u001b[0m\u001b[0my_true\u001b[0m\u001b[1;33m,\u001b[0m \u001b[0my_pred\u001b[0m\u001b[1;33m)\u001b[0m\u001b[1;33m\u001b[0m\u001b[1;33m\u001b[0m\u001b[0m\n\u001b[0;32m     89\u001b[0m     \u001b[0my_true\u001b[0m \u001b[1;33m=\u001b[0m \u001b[0mcheck_array\u001b[0m\u001b[1;33m(\u001b[0m\u001b[0my_true\u001b[0m\u001b[1;33m,\u001b[0m \u001b[0mensure_2d\u001b[0m\u001b[1;33m=\u001b[0m\u001b[1;32mFalse\u001b[0m\u001b[1;33m,\u001b[0m \u001b[0mdtype\u001b[0m\u001b[1;33m=\u001b[0m\u001b[0mdtype\u001b[0m\u001b[1;33m)\u001b[0m\u001b[1;33m\u001b[0m\u001b[1;33m\u001b[0m\u001b[0m\n\u001b[1;32m---> 90\u001b[1;33m     \u001b[0my_pred\u001b[0m \u001b[1;33m=\u001b[0m \u001b[0mcheck_array\u001b[0m\u001b[1;33m(\u001b[0m\u001b[0my_pred\u001b[0m\u001b[1;33m,\u001b[0m \u001b[0mensure_2d\u001b[0m\u001b[1;33m=\u001b[0m\u001b[1;32mFalse\u001b[0m\u001b[1;33m,\u001b[0m \u001b[0mdtype\u001b[0m\u001b[1;33m=\u001b[0m\u001b[0mdtype\u001b[0m\u001b[1;33m)\u001b[0m\u001b[1;33m\u001b[0m\u001b[1;33m\u001b[0m\u001b[0m\n\u001b[0m\u001b[0;32m     91\u001b[0m \u001b[1;33m\u001b[0m\u001b[0m\n\u001b[0;32m     92\u001b[0m     \u001b[1;32mif\u001b[0m \u001b[0my_true\u001b[0m\u001b[1;33m.\u001b[0m\u001b[0mndim\u001b[0m \u001b[1;33m==\u001b[0m \u001b[1;36m1\u001b[0m\u001b[1;33m:\u001b[0m\u001b[1;33m\u001b[0m\u001b[1;33m\u001b[0m\u001b[0m\n",
      "\u001b[1;32m~\\AppData\\Roaming\\Python\\Python38\\site-packages\\sklearn\\utils\\validation.py\u001b[0m in \u001b[0;36minner_f\u001b[1;34m(*args, **kwargs)\u001b[0m\n\u001b[0;32m     61\u001b[0m             \u001b[0mextra_args\u001b[0m \u001b[1;33m=\u001b[0m \u001b[0mlen\u001b[0m\u001b[1;33m(\u001b[0m\u001b[0margs\u001b[0m\u001b[1;33m)\u001b[0m \u001b[1;33m-\u001b[0m \u001b[0mlen\u001b[0m\u001b[1;33m(\u001b[0m\u001b[0mall_args\u001b[0m\u001b[1;33m)\u001b[0m\u001b[1;33m\u001b[0m\u001b[1;33m\u001b[0m\u001b[0m\n\u001b[0;32m     62\u001b[0m             \u001b[1;32mif\u001b[0m \u001b[0mextra_args\u001b[0m \u001b[1;33m<=\u001b[0m \u001b[1;36m0\u001b[0m\u001b[1;33m:\u001b[0m\u001b[1;33m\u001b[0m\u001b[1;33m\u001b[0m\u001b[0m\n\u001b[1;32m---> 63\u001b[1;33m                 \u001b[1;32mreturn\u001b[0m \u001b[0mf\u001b[0m\u001b[1;33m(\u001b[0m\u001b[1;33m*\u001b[0m\u001b[0margs\u001b[0m\u001b[1;33m,\u001b[0m \u001b[1;33m**\u001b[0m\u001b[0mkwargs\u001b[0m\u001b[1;33m)\u001b[0m\u001b[1;33m\u001b[0m\u001b[1;33m\u001b[0m\u001b[0m\n\u001b[0m\u001b[0;32m     64\u001b[0m \u001b[1;33m\u001b[0m\u001b[0m\n\u001b[0;32m     65\u001b[0m             \u001b[1;31m# extra_args > 0\u001b[0m\u001b[1;33m\u001b[0m\u001b[1;33m\u001b[0m\u001b[1;33m\u001b[0m\u001b[0m\n",
      "\u001b[1;32m~\\AppData\\Roaming\\Python\\Python38\\site-packages\\sklearn\\utils\\validation.py\u001b[0m in \u001b[0;36mcheck_array\u001b[1;34m(array, accept_sparse, accept_large_sparse, dtype, order, copy, force_all_finite, ensure_2d, allow_nd, ensure_min_samples, ensure_min_features, estimator)\u001b[0m\n\u001b[0;32m    718\u001b[0m \u001b[1;33m\u001b[0m\u001b[0m\n\u001b[0;32m    719\u001b[0m         \u001b[1;32mif\u001b[0m \u001b[0mforce_all_finite\u001b[0m\u001b[1;33m:\u001b[0m\u001b[1;33m\u001b[0m\u001b[1;33m\u001b[0m\u001b[0m\n\u001b[1;32m--> 720\u001b[1;33m             _assert_all_finite(array,\n\u001b[0m\u001b[0;32m    721\u001b[0m                                allow_nan=force_all_finite == 'allow-nan')\n\u001b[0;32m    722\u001b[0m \u001b[1;33m\u001b[0m\u001b[0m\n",
      "\u001b[1;32m~\\AppData\\Roaming\\Python\\Python38\\site-packages\\sklearn\\utils\\validation.py\u001b[0m in \u001b[0;36m_assert_all_finite\u001b[1;34m(X, allow_nan, msg_dtype)\u001b[0m\n\u001b[0;32m    101\u001b[0m                 not allow_nan and not np.isfinite(X).all()):\n\u001b[0;32m    102\u001b[0m             \u001b[0mtype_err\u001b[0m \u001b[1;33m=\u001b[0m \u001b[1;34m'infinity'\u001b[0m \u001b[1;32mif\u001b[0m \u001b[0mallow_nan\u001b[0m \u001b[1;32melse\u001b[0m \u001b[1;34m'NaN, infinity'\u001b[0m\u001b[1;33m\u001b[0m\u001b[1;33m\u001b[0m\u001b[0m\n\u001b[1;32m--> 103\u001b[1;33m             raise ValueError(\n\u001b[0m\u001b[0;32m    104\u001b[0m                     \u001b[0mmsg_err\u001b[0m\u001b[1;33m.\u001b[0m\u001b[0mformat\u001b[0m\u001b[1;33m\u001b[0m\u001b[1;33m\u001b[0m\u001b[0m\n\u001b[0;32m    105\u001b[0m                     (type_err,\n",
      "\u001b[1;31mValueError\u001b[0m: Input contains NaN, infinity or a value too large for dtype('float32')."
     ]
    }
   ],
   "source": [
    "\n",
    "from sklearn.metrics import mean_absolute_error\n",
    "\n",
    "train_mse = mean_absolute_error(y_train, train_prediction)\n",
    "round(train_mse, 5)\n"
   ]
  },
  {
   "cell_type": "code",
   "execution_count": null,
   "metadata": {},
   "outputs": [
    {
     "name": "stdout",
     "output_type": "stream",
     "text": [
      "next1  0.03449\n",
      "next2  0.04821\n",
      "next3  0.05987\n"
     ]
    }
   ],
   "source": [
    "for i in range(len(labels)):\n",
    "    print (labels[i],   \"{:8.5f}\".format(mean_absolute_error(y_train[:,i], train_prediction[:,i])))  "
   ]
  },
  {
   "cell_type": "code",
   "execution_count": null,
   "metadata": {},
   "outputs": [
    {
     "name": "stdout",
     "output_type": "stream",
     "text": [
      "next1 0.451\n",
      "next2 0.484\n",
      "next3 0.526\n"
     ]
    },
    {
     "data": {
      "text/plain": [
       "'next3'"
      ]
     },
     "execution_count": 331,
     "metadata": {},
     "output_type": "execute_result"
    }
   ],
   "source": [
    "best = 0\n",
    "\n",
    "for j in range(len(labels)):\n",
    "    c = 0\n",
    "    n = 0\n",
    "    for i in range(len(y_train)):\n",
    "        if abs(train_prediction[i, j]) < 0.00001:\n",
    "            continue\n",
    "        n = n+1\n",
    "        if (np.sign(y_train[i, j]) == np.sign(train_prediction[i, j])):\n",
    "            c = c+1\n",
    "    print(labels[j], round(c/n, 3))\n",
    "    if c/n > best:\n",
    "        best = c/n\n",
    "        best_label = j\n",
    "\n",
    "labels[best_label]\n"
   ]
  },
  {
   "cell_type": "code",
   "execution_count": null,
   "metadata": {},
   "outputs": [
    {
     "data": {
      "image/png": "[encoded data removed]",
      "text/plain": [
       "<Figure size 720x1080 with 3 Axes>"
      ]
     },
     "metadata": {
      "needs_background": "dark"
     },
     "output_type": "display_data"
    }
   ],
   "source": [
    "import seaborn as sns\n",
    "\n",
    "fig = plt.figure(figsize=(10,15))\n",
    "\n",
    "for i in range(min(len(labels),12)):\n",
    "    fig.add_subplot(4, 3, i+1)\n",
    "    plt.title(labels[i])\n",
    "    sns.histplot(data=train_prediction[:, i])\n"
   ]
  },
  {
   "cell_type": "code",
   "execution_count": null,
   "metadata": {},
   "outputs": [
    {
     "data": {
      "image/png": "[encoded data removed]",
      "text/plain": [
       "<Figure size 720x1080 with 3 Axes>"
      ]
     },
     "metadata": {
      "needs_background": "dark"
     },
     "output_type": "display_data"
    }
   ],
   "source": [
    "fig = plt.figure(figsize=(10,15))\n",
    "\n",
    "for i in range(min(len(labels),12)):\n",
    "    fig.add_subplot(4, 3, i+1)\n",
    "    plt.title(labels[i])\n",
    "\n",
    "    plt.xlim(-0.1, 0.1)\n",
    "    plt.ylim(-0.2, 0.2)\n",
    "    plt.scatter(train_prediction[:, i], y_train[:, i], alpha=0.3)\n"
   ]
  },
  {
   "cell_type": "markdown",
   "metadata": {},
   "source": [
    "# Test results"
   ]
  },
  {
   "cell_type": "code",
   "execution_count": null,
   "metadata": {},
   "outputs": [],
   "source": [
    "test_prediction=model.predict(X_test)"
   ]
  },
  {
   "cell_type": "code",
   "execution_count": null,
   "metadata": {},
   "outputs": [
    {
     "ename": "ValueError",
     "evalue": "Input contains NaN, infinity or a value too large for dtype('float64').",
     "output_type": "error",
     "traceback": [
      "\u001b[1;31m---------------------------------------------------------------------------\u001b[0m",
      "\u001b[1;31mValueError\u001b[0m                                Traceback (most recent call last)",
      "\u001b[1;32m<ipython-input-335-83bea97cdce2>\u001b[0m in \u001b[0;36m<module>\u001b[1;34m\u001b[0m\n\u001b[0;32m      1\u001b[0m \u001b[1;32mfrom\u001b[0m \u001b[0msklearn\u001b[0m\u001b[1;33m.\u001b[0m\u001b[0mmetrics\u001b[0m \u001b[1;32mimport\u001b[0m \u001b[0mmean_absolute_error\u001b[0m\u001b[1;33m\u001b[0m\u001b[1;33m\u001b[0m\u001b[0m\n\u001b[0;32m      2\u001b[0m \u001b[1;33m\u001b[0m\u001b[0m\n\u001b[1;32m----> 3\u001b[1;33m \u001b[0mtest_mse\u001b[0m \u001b[1;33m=\u001b[0m \u001b[0mmean_absolute_error\u001b[0m\u001b[1;33m(\u001b[0m\u001b[0my_test\u001b[0m\u001b[1;33m,\u001b[0m \u001b[0mtest_prediction\u001b[0m\u001b[1;33m)\u001b[0m\u001b[1;33m\u001b[0m\u001b[1;33m\u001b[0m\u001b[0m\n\u001b[0m\u001b[0;32m      4\u001b[0m \u001b[0mround\u001b[0m\u001b[1;33m(\u001b[0m\u001b[0mtrain_mse\u001b[0m\u001b[1;33m,\u001b[0m\u001b[1;36m5\u001b[0m\u001b[1;33m)\u001b[0m\u001b[1;33m\u001b[0m\u001b[1;33m\u001b[0m\u001b[0m\n",
      "\u001b[1;32m~\\AppData\\Roaming\\Python\\Python38\\site-packages\\sklearn\\utils\\validation.py\u001b[0m in \u001b[0;36minner_f\u001b[1;34m(*args, **kwargs)\u001b[0m\n\u001b[0;32m     61\u001b[0m             \u001b[0mextra_args\u001b[0m \u001b[1;33m=\u001b[0m \u001b[0mlen\u001b[0m\u001b[1;33m(\u001b[0m\u001b[0margs\u001b[0m\u001b[1;33m)\u001b[0m \u001b[1;33m-\u001b[0m \u001b[0mlen\u001b[0m\u001b[1;33m(\u001b[0m\u001b[0mall_args\u001b[0m\u001b[1;33m)\u001b[0m\u001b[1;33m\u001b[0m\u001b[1;33m\u001b[0m\u001b[0m\n\u001b[0;32m     62\u001b[0m             \u001b[1;32mif\u001b[0m \u001b[0mextra_args\u001b[0m \u001b[1;33m<=\u001b[0m \u001b[1;36m0\u001b[0m\u001b[1;33m:\u001b[0m\u001b[1;33m\u001b[0m\u001b[1;33m\u001b[0m\u001b[0m\n\u001b[1;32m---> 63\u001b[1;33m                 \u001b[1;32mreturn\u001b[0m \u001b[0mf\u001b[0m\u001b[1;33m(\u001b[0m\u001b[1;33m*\u001b[0m\u001b[0margs\u001b[0m\u001b[1;33m,\u001b[0m \u001b[1;33m**\u001b[0m\u001b[0mkwargs\u001b[0m\u001b[1;33m)\u001b[0m\u001b[1;33m\u001b[0m\u001b[1;33m\u001b[0m\u001b[0m\n\u001b[0m\u001b[0;32m     64\u001b[0m \u001b[1;33m\u001b[0m\u001b[0m\n\u001b[0;32m     65\u001b[0m             \u001b[1;31m# extra_args > 0\u001b[0m\u001b[1;33m\u001b[0m\u001b[1;33m\u001b[0m\u001b[1;33m\u001b[0m\u001b[0m\n",
      "\u001b[1;32m~\\AppData\\Roaming\\Python\\Python38\\site-packages\\sklearn\\metrics\\_regression.py\u001b[0m in \u001b[0;36mmean_absolute_error\u001b[1;34m(y_true, y_pred, sample_weight, multioutput)\u001b[0m\n\u001b[0;32m    180\u001b[0m     \u001b[1;36m0.85\u001b[0m\u001b[1;33m...\u001b[0m\u001b[1;33m\u001b[0m\u001b[1;33m\u001b[0m\u001b[0m\n\u001b[0;32m    181\u001b[0m     \"\"\"\n\u001b[1;32m--> 182\u001b[1;33m     y_type, y_true, y_pred, multioutput = _check_reg_targets(\n\u001b[0m\u001b[0;32m    183\u001b[0m         y_true, y_pred, multioutput)\n\u001b[0;32m    184\u001b[0m     \u001b[0mcheck_consistent_length\u001b[0m\u001b[1;33m(\u001b[0m\u001b[0my_true\u001b[0m\u001b[1;33m,\u001b[0m \u001b[0my_pred\u001b[0m\u001b[1;33m,\u001b[0m \u001b[0msample_weight\u001b[0m\u001b[1;33m)\u001b[0m\u001b[1;33m\u001b[0m\u001b[1;33m\u001b[0m\u001b[0m\n",
      "\u001b[1;32m~\\AppData\\Roaming\\Python\\Python38\\site-packages\\sklearn\\metrics\\_regression.py\u001b[0m in \u001b[0;36m_check_reg_targets\u001b[1;34m(y_true, y_pred, multioutput, dtype)\u001b[0m\n\u001b[0;32m     87\u001b[0m     \"\"\"\n\u001b[0;32m     88\u001b[0m     \u001b[0mcheck_consistent_length\u001b[0m\u001b[1;33m(\u001b[0m\u001b[0my_true\u001b[0m\u001b[1;33m,\u001b[0m \u001b[0my_pred\u001b[0m\u001b[1;33m)\u001b[0m\u001b[1;33m\u001b[0m\u001b[1;33m\u001b[0m\u001b[0m\n\u001b[1;32m---> 89\u001b[1;33m     \u001b[0my_true\u001b[0m \u001b[1;33m=\u001b[0m \u001b[0mcheck_array\u001b[0m\u001b[1;33m(\u001b[0m\u001b[0my_true\u001b[0m\u001b[1;33m,\u001b[0m \u001b[0mensure_2d\u001b[0m\u001b[1;33m=\u001b[0m\u001b[1;32mFalse\u001b[0m\u001b[1;33m,\u001b[0m \u001b[0mdtype\u001b[0m\u001b[1;33m=\u001b[0m\u001b[0mdtype\u001b[0m\u001b[1;33m)\u001b[0m\u001b[1;33m\u001b[0m\u001b[1;33m\u001b[0m\u001b[0m\n\u001b[0m\u001b[0;32m     90\u001b[0m     \u001b[0my_pred\u001b[0m \u001b[1;33m=\u001b[0m \u001b[0mcheck_array\u001b[0m\u001b[1;33m(\u001b[0m\u001b[0my_pred\u001b[0m\u001b[1;33m,\u001b[0m \u001b[0mensure_2d\u001b[0m\u001b[1;33m=\u001b[0m\u001b[1;32mFalse\u001b[0m\u001b[1;33m,\u001b[0m \u001b[0mdtype\u001b[0m\u001b[1;33m=\u001b[0m\u001b[0mdtype\u001b[0m\u001b[1;33m)\u001b[0m\u001b[1;33m\u001b[0m\u001b[1;33m\u001b[0m\u001b[0m\n\u001b[0;32m     91\u001b[0m \u001b[1;33m\u001b[0m\u001b[0m\n",
      "\u001b[1;32m~\\AppData\\Roaming\\Python\\Python38\\site-packages\\sklearn\\utils\\validation.py\u001b[0m in \u001b[0;36minner_f\u001b[1;34m(*args, **kwargs)\u001b[0m\n\u001b[0;32m     61\u001b[0m             \u001b[0mextra_args\u001b[0m \u001b[1;33m=\u001b[0m \u001b[0mlen\u001b[0m\u001b[1;33m(\u001b[0m\u001b[0margs\u001b[0m\u001b[1;33m)\u001b[0m \u001b[1;33m-\u001b[0m \u001b[0mlen\u001b[0m\u001b[1;33m(\u001b[0m\u001b[0mall_args\u001b[0m\u001b[1;33m)\u001b[0m\u001b[1;33m\u001b[0m\u001b[1;33m\u001b[0m\u001b[0m\n\u001b[0;32m     62\u001b[0m             \u001b[1;32mif\u001b[0m \u001b[0mextra_args\u001b[0m \u001b[1;33m<=\u001b[0m \u001b[1;36m0\u001b[0m\u001b[1;33m:\u001b[0m\u001b[1;33m\u001b[0m\u001b[1;33m\u001b[0m\u001b[0m\n\u001b[1;32m---> 63\u001b[1;33m                 \u001b[1;32mreturn\u001b[0m \u001b[0mf\u001b[0m\u001b[1;33m(\u001b[0m\u001b[1;33m*\u001b[0m\u001b[0margs\u001b[0m\u001b[1;33m,\u001b[0m \u001b[1;33m**\u001b[0m\u001b[0mkwargs\u001b[0m\u001b[1;33m)\u001b[0m\u001b[1;33m\u001b[0m\u001b[1;33m\u001b[0m\u001b[0m\n\u001b[0m\u001b[0;32m     64\u001b[0m \u001b[1;33m\u001b[0m\u001b[0m\n\u001b[0;32m     65\u001b[0m             \u001b[1;31m# extra_args > 0\u001b[0m\u001b[1;33m\u001b[0m\u001b[1;33m\u001b[0m\u001b[1;33m\u001b[0m\u001b[0m\n",
      "\u001b[1;32m~\\AppData\\Roaming\\Python\\Python38\\site-packages\\sklearn\\utils\\validation.py\u001b[0m in \u001b[0;36mcheck_array\u001b[1;34m(array, accept_sparse, accept_large_sparse, dtype, order, copy, force_all_finite, ensure_2d, allow_nd, ensure_min_samples, ensure_min_features, estimator)\u001b[0m\n\u001b[0;32m    718\u001b[0m \u001b[1;33m\u001b[0m\u001b[0m\n\u001b[0;32m    719\u001b[0m         \u001b[1;32mif\u001b[0m \u001b[0mforce_all_finite\u001b[0m\u001b[1;33m:\u001b[0m\u001b[1;33m\u001b[0m\u001b[1;33m\u001b[0m\u001b[0m\n\u001b[1;32m--> 720\u001b[1;33m             _assert_all_finite(array,\n\u001b[0m\u001b[0;32m    721\u001b[0m                                allow_nan=force_all_finite == 'allow-nan')\n\u001b[0;32m    722\u001b[0m \u001b[1;33m\u001b[0m\u001b[0m\n",
      "\u001b[1;32m~\\AppData\\Roaming\\Python\\Python38\\site-packages\\sklearn\\utils\\validation.py\u001b[0m in \u001b[0;36m_assert_all_finite\u001b[1;34m(X, allow_nan, msg_dtype)\u001b[0m\n\u001b[0;32m    101\u001b[0m                 not allow_nan and not np.isfinite(X).all()):\n\u001b[0;32m    102\u001b[0m             \u001b[0mtype_err\u001b[0m \u001b[1;33m=\u001b[0m \u001b[1;34m'infinity'\u001b[0m \u001b[1;32mif\u001b[0m \u001b[0mallow_nan\u001b[0m \u001b[1;32melse\u001b[0m \u001b[1;34m'NaN, infinity'\u001b[0m\u001b[1;33m\u001b[0m\u001b[1;33m\u001b[0m\u001b[0m\n\u001b[1;32m--> 103\u001b[1;33m             raise ValueError(\n\u001b[0m\u001b[0;32m    104\u001b[0m                     \u001b[0mmsg_err\u001b[0m\u001b[1;33m.\u001b[0m\u001b[0mformat\u001b[0m\u001b[1;33m\u001b[0m\u001b[1;33m\u001b[0m\u001b[0m\n\u001b[0;32m    105\u001b[0m                     (type_err,\n",
      "\u001b[1;31mValueError\u001b[0m: Input contains NaN, infinity or a value too large for dtype('float64')."
     ]
    }
   ],
   "source": [
    "from sklearn.metrics import mean_absolute_error\n",
    "\n",
    "test_mse = mean_absolute_error(y_test, test_prediction)\n",
    "round(train_mse,5)"
   ]
  },
  {
   "cell_type": "code",
   "execution_count": null,
   "metadata": {},
   "outputs": [
    {
     "name": "stdout",
     "output_type": "stream",
     "text": [
      "next1  0.02551\n",
      "next2  0.03640\n",
      "next3  0.04626\n"
     ]
    }
   ],
   "source": [
    "for i in range(len(labels)):\n",
    "    print (labels[i],   \"{:8.5f}\".format(mean_absolute_error(y_test[:,i], test_prediction[:,i])))  "
   ]
  },
  {
   "cell_type": "code",
   "execution_count": null,
   "metadata": {},
   "outputs": [
    {
     "name": "stdout",
     "output_type": "stream",
     "text": [
      "next1 0.555\n",
      "next2 0.609\n",
      "next3 0.598\n"
     ]
    },
    {
     "data": {
      "text/plain": [
       "'next2'"
      ]
     },
     "execution_count": 116,
     "metadata": {},
     "output_type": "execute_result"
    }
   ],
   "source": [
    "best = 0\n",
    "\n",
    "for j in range(len(labels)):\n",
    "    c = 0\n",
    "    n = 0\n",
    "    for i in range(len(y_test)):\n",
    "        if abs(test_prediction[i, j]) < 0.00001:\n",
    "            continue\n",
    "        n = n+1\n",
    "        if (np.sign(y_test[i, j]) == np.sign(test_prediction[i, j])):\n",
    "            c = c+1\n",
    "    print(labels[j], round(c/n, 3))\n",
    "    if c/n > best:\n",
    "        best = c/n\n",
    "        best_label = j\n",
    "\n",
    "labels[best_label]\n"
   ]
  },
  {
   "cell_type": "code",
   "execution_count": null,
   "metadata": {},
   "outputs": [
    {
     "data": {
      "image/png": "[encoded data removed]",
      "text/plain": [
       "<Figure size 720x1080 with 3 Axes>"
      ]
     },
     "metadata": {
      "needs_background": "dark"
     },
     "output_type": "display_data"
    }
   ],
   "source": [
    "import seaborn as sns\n",
    "\n",
    "fig = plt.figure(figsize=(10,15))\n",
    "\n",
    "for i in range(min(len(labels),12)):\n",
    "    fig.add_subplot(4, 3, i+1)\n",
    "    plt.title(labels[i])\n",
    "    sns.histplot(data=test_prediction[:, i])\n"
   ]
  },
  {
   "cell_type": "code",
   "execution_count": null,
   "metadata": {},
   "outputs": [
    {
     "data": {
      "image/png": "[encoded data removed]",
      "text/plain": [
       "<Figure size 720x1080 with 3 Axes>"
      ]
     },
     "metadata": {
      "needs_background": "dark"
     },
     "output_type": "display_data"
    }
   ],
   "source": [
    "fig = plt.figure(figsize=(10,15))\n",
    "\n",
    "for i in range(min(len(labels),12)):\n",
    "    fig.add_subplot(4, 3, i+1)\n",
    "    plt.title(labels[i])\n",
    "    plt.xlim(-0.1, 0.1)\n",
    "    plt.ylim(-0.2, 0.2)\n",
    "    plt.scatter(test_prediction[:, i], y_test[:, i], alpha=0.3)\n"
   ]
  },
  {
   "cell_type": "markdown",
   "metadata": {},
   "source": [
    "# Backtesting"
   ]
  },
  {
   "cell_type": "code",
   "execution_count": null,
   "metadata": {},
   "outputs": [],
   "source": [
    "summer = lambda y: sum(y)/len(labels)\n",
    "test_sum = np.array([summer(y) for y in test_prediction])\n"
   ]
  },
  {
   "cell_type": "code",
   "execution_count": null,
   "metadata": {},
   "outputs": [],
   "source": [
    "data = pd.DataFrame({'Datetime': X_test_times, 'distance': test_sum, 'Last': X_test_price })\n"
   ]
  },
  {
   "cell_type": "code",
   "execution_count": null,
   "metadata": {},
   "outputs": [],
   "source": [
    "def run_strategy(a_data, threshold):\n",
    "    ''' Backtests the trading strategy.\n",
    "    '''\n",
    "    data = a_data.copy().dropna()\n",
    "    data['returns'] = np.log(data['Last'] / data['Last'].shift(1)).dropna()\n",
    "    # buy BTC signals\n",
    "    data['position'] = np.where(data['distance'] > threshold, 1, np.nan)\n",
    "    # sell BTC signals\n",
    "    data['position'] = np.where(data['distance'] < -threshold, -1,\n",
    "                                data['position'])\n",
    "    data['position'] = data['position'].ffill().fillna(0)\n",
    "    data['strategy'] = data['position'].shift(1) * data['returns']\n",
    "    # determine when a trade takes place\n",
    "    trades = data['position'].diff().fillna(0) != 0\n",
    "    # subtract transaction costs from return when trade takes place\n",
    "    data['strategy'][trades] -= SPREAD\n",
    "    data['buy'] = data['position'].diff().fillna(0) > 0\n",
    "    data['sell'] = data['position'].diff().fillna(0) < 0\n",
    "    data['creturns'] = INIT_DEPOSIT * data['returns'].cumsum().apply(np.exp)\n",
    "    data['cstrategy'] = INIT_DEPOSIT * data['strategy'].cumsum().apply(np.exp)\n",
    "    results = data\n",
    "    # absolute performance of the strategy\n",
    "    aperf = results['cstrategy'].iloc[-1]\n",
    "    # base instrument performance (BTC)\n",
    "    bperf = results['creturns'].iloc[-1]\n",
    "    # out-/underperformance of strategy\n",
    "    operf = aperf - bperf\n",
    "\n",
    "    return round(aperf, 2), round(operf, 2), results\n"
   ]
  },
  {
   "cell_type": "code",
   "execution_count": null,
   "metadata": {},
   "outputs": [
    {
     "name": "stdout",
     "output_type": "stream",
     "text": [
      "0.0 117.06\n",
      "0.01 412.73\n",
      "0.02 335.43\n",
      "0.03 264.53\n",
      "0.04 384.79\n",
      "0.05 489.15\n",
      "0.06 3796.91\n",
      "0.07 196.79\n",
      "0.08 196.79\n",
      "0.09 196.79\n",
      "0.1 196.79\n",
      "0.11 1000.0\n",
      "0.12 1000.0\n",
      "0.13 1000.0\n",
      "0.14 1000.0\n",
      "0.15 1000.0\n",
      "0.16 1000.0\n",
      "0.17 1000.0\n",
      "0.18 1000.0\n",
      "0.19 1000.0\n",
      "0.2 1000.0\n",
      "0.21 1000.0\n",
      "0.22 1000.0\n",
      "0.23 1000.0\n",
      "0.24 1000.0\n",
      "0.25 1000.0\n",
      "0.26 1000.0\n",
      "0.27 1000.0\n",
      "0.28 1000.0\n",
      "0.29 1000.0\n",
      "0.3 1000.0\n",
      "0.31 1000.0\n",
      "0.32 1000.0\n",
      "0.33 1000.0\n",
      "0.34 1000.0\n",
      "0.35 1000.0\n",
      "0.36 1000.0\n",
      "0.37 1000.0\n",
      "0.38 1000.0\n",
      "0.39 1000.0\n",
      "0.4 1000.0\n",
      "0.41 1000.0\n",
      "0.42 1000.0\n",
      "0.43 1000.0\n",
      "0.44 1000.0\n",
      "0.45 1000.0\n",
      "0.46 1000.0\n",
      "0.47 1000.0\n",
      "0.48 1000.0\n",
      "0.49 1000.0\n",
      "0.5 1000.0\n",
      "0.51 1000.0\n",
      "0.52 1000.0\n",
      "0.53 1000.0\n",
      "0.54 1000.0\n",
      "0.55 1000.0\n",
      "0.56 1000.0\n",
      "0.57 1000.0\n",
      "0.58 1000.0\n",
      "0.59 1000.0\n",
      "0.6 1000.0\n",
      "0.61 1000.0\n",
      "0.62 1000.0\n",
      "0.63 1000.0\n",
      "0.64 1000.0\n",
      "0.65 1000.0\n",
      "0.66 1000.0\n",
      "0.67 1000.0\n",
      "0.68 1000.0\n",
      "0.69 1000.0\n",
      "0.7 1000.0\n",
      "0.71 1000.0\n",
      "0.72 1000.0\n",
      "0.73 1000.0\n",
      "0.74 1000.0\n",
      "0.75 1000.0\n",
      "0.76 1000.0\n",
      "0.77 1000.0\n",
      "0.78 1000.0\n",
      "0.79 1000.0\n",
      "0.8 1000.0\n",
      "0.81 1000.0\n",
      "0.82 1000.0\n",
      "0.83 1000.0\n",
      "0.84 1000.0\n",
      "0.85 1000.0\n",
      "0.86 1000.0\n",
      "0.87 1000.0\n",
      "0.88 1000.0\n",
      "0.89 1000.0\n",
      "0.9 1000.0\n",
      "0.91 1000.0\n",
      "0.92 1000.0\n",
      "0.93 1000.0\n",
      "0.94 1000.0\n",
      "0.95 1000.0\n",
      "0.96 1000.0\n",
      "0.97 1000.0\n",
      "0.98 1000.0\n",
      "0.99 1000.0\n"
     ]
    }
   ],
   "source": [
    "\n",
    "best_threshold = 0\n",
    "best_aperf = 0\n",
    "for i in range(100):\n",
    "    x, y, z = run_strategy(data, i/100)\n",
    "    print(i/100, x)\n",
    "    if x > best_aperf:\n",
    "        best_aperf = x\n",
    "        best_threshold = i/100\n"
   ]
  },
  {
   "cell_type": "code",
   "execution_count": null,
   "metadata": {},
   "outputs": [
    {
     "data": {
      "text/plain": [
       "(3796.91,\n",
       " -266.69,\n",
       "       Datetime  distance       Last   returns  position  strategy    buy  \\\n",
       " 0   2020-01-01 -0.003462   7213.100       NaN       0.0       NaN  False   \n",
       " 1   2020-01-02  0.041466   6989.500 -0.031490       0.0 -0.000000  False   \n",
       " 2   2020-01-03  0.035360   7356.900  0.051230       0.0  0.000000  False   \n",
       " 3   2020-01-04  0.026036   7373.000  0.002186       0.0  0.000000  False   \n",
       " 4   2020-01-05  0.004026   7344.900 -0.003818       0.0 -0.000000  False   \n",
       " ..         ...       ...        ...       ...       ...       ...    ...   \n",
       " 361 2020-12-28 -0.024628  27094.000  0.026668       1.0  0.026668  False   \n",
       " 362 2020-12-29 -0.030823  27228.000  0.004934       1.0  0.004934  False   \n",
       " 363 2020-12-30 -0.006082  28805.000  0.056303       1.0  0.056303  False   \n",
       " 364 2020-12-31 -0.004885  28948.000  0.004952       1.0  0.004952  False   \n",
       " 365 2021-01-01 -0.021587  29311.114  0.012466       1.0  0.012466  False   \n",
       " \n",
       "       sell     creturns    cstrategy  \n",
       " 0    False          NaN          NaN  \n",
       " 1    False   969.000846  1000.000000  \n",
       " 2    False  1019.935950  1000.000000  \n",
       " 3    False  1022.168000  1000.000000  \n",
       " 4    False  1018.272310  1000.000000  \n",
       " ..     ...          ...          ...  \n",
       " 361  False  3756.221320  3509.707030  \n",
       " 362  False  3774.798630  3527.065144  \n",
       " 363  False  3993.428623  3731.346829  \n",
       " 364  False  4013.253663  3749.870787  \n",
       " 365  False  4063.594571  3796.907908  \n",
       " \n",
       " [366 rows x 10 columns])"
      ]
     },
     "execution_count": 125,
     "metadata": {},
     "output_type": "execute_result"
    }
   ],
   "source": [
    "run_strategy(data, best_threshold)\n"
   ]
  }
 ],
 "metadata": {
  "interpreter": {
   "hash": "1baa965d5efe3ac65b79dfc60c0d706280b1da80fedb7760faf2759126c4f253"
  },
  "kernelspec": {
   "display_name": "Python 3.8.10 64-bit",
   "name": "python3"
  },
  "language_info": {
   "codemirror_mode": {
    "name": "ipython",
    "version": 3
   },
   "file_extension": ".py",
   "mimetype": "text/x-python",
   "name": "python",
   "nbconvert_exporter": "python",
   "pygments_lexer": "ipython3",
   "version": "3.8.10"
  },
  "orig_nbformat": 4
 },
 "nbformat": 4,
 "nbformat_minor": 2
}
